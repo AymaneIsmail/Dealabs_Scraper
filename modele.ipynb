{
 "cells": [
  {
   "cell_type": "code",
   "execution_count": null,
   "metadata": {},
   "outputs": [
    {
     "name": "stdout",
     "output_type": "stream",
     "text": [
      "Modèle et caractéristiques sauvegardés.\n"
     ]
    }
   ],
   "source": [
    "# Importation des bibliothèques nécessaires\n",
    "import pandas as pd\n",
    "from sklearn.ensemble import RandomForestClassifier\n",
    "from sklearn.model_selection import train_test_split\n",
    "import joblib\n",
    "\n",
    "# Charger le dataset depuis le fichier CSV\n",
    "# Ce fichier contient les informations sur les offres et leurs caractéristiques\n",
    "data = pd.read_csv(\"./data/deals_dataset.csv\", delimiter=\";\", encoding=\"latin-1\")\n",
    "\n",
    "# Calculer le pourcentage de réduction\n",
    "# Formule : (prix initial - prix actuel) / prix initial * 100\n",
    "# Les valeurs manquantes sont remplacées par 0\n",
    "data['discount_percentage'] = ((data['initial_price'] - data['price']) / data['initial_price'] * 100).fillna(0)\n",
    "\n",
    "# Ajouter une colonne indiquant si la livraison est gratuite\n",
    "# Si `shipping` est vide ou égal à 0, alors la livraison est gratuite\n",
    "data['free_shipping'] = data['shipping'].fillna(0) == 0\n",
    "data['free_shipping'] = data['free_shipping'].astype(int)  # Conversion en entier (1 pour vrai, 0 pour faux)\n",
    "\n",
    "# Remplacer les valeurs manquantes dans `comments_count` par la médiane\n",
    "data['comments_count'] = data['comments_count'].fillna(data['comments_count'].median())\n",
    "\n",
    "# Créer la colonne cible `is_good_deal`\n",
    "# Une offre est une \"bonne affaire\" si la température > 100 ou la réduction > 20%\n",
    "data['is_good_deal'] = ((data['current_temperature'] > 100) | (data['discount_percentage'] > 20)).astype(int)\n",
    "\n",
    "# Sélectionner les colonnes pertinentes pour l'entraînement du modèle\n",
    "features = ['current_temperature', 'discount_percentage', 'free_shipping', 'comments_count']\n",
    "X = data[features]  # Caractéristiques d'entrée\n",
    "y = data['is_good_deal']  # Colonne cible\n",
    "\n",
    "# Diviser les données en ensembles d'entraînement et de test\n",
    "X_train, X_test, y_train, y_test = train_test_split(X, y, test_size=0.2, random_state=42)\n",
    "\n",
    "# Initialiser et entraîner un modèle Random Forest\n",
    "rf_model = RandomForestClassifier(random_state=42)\n",
    "rf_model.fit(X_train, y_train)\n",
    "\n",
    "# Sauvegarder le modèle entraîné et les colonnes utilisées\n",
    "joblib.dump(rf_model, \"random_forest_good_deal_model.pkl\")\n",
    "joblib.dump(features, \"model_features.pkl\")\n",
    "print(\"Modèle et caractéristiques sauvegardés.\")\n"
   ]
  },
  {
   "cell_type": "code",
   "execution_count": null,
   "metadata": {},
   "outputs": [
    {
     "name": "stdout",
     "output_type": "stream",
     "text": [
      "            track_id  is_good_deal\n",
      "0     thread_2914509             1\n",
      "1     thread_2912979             1\n",
      "2     thread_2911945             0\n",
      "3     thread_2910548             0\n",
      "4     thread_2909793             0\n",
      "...              ...           ...\n",
      "8221  thread_2886848             1\n",
      "8222  thread_2886431             0\n",
      "8223  thread_2875168             1\n",
      "8224  thread_2875104             1\n",
      "8225  thread_2868448             1\n",
      "\n",
      "[8226 rows x 2 columns]\n"
     ]
    }
   ],
   "source": [
    "# Importation des bibliothèques nécessaires\n",
    "import pandas as pd\n",
    "import joblib\n",
    "\n",
    "# Charger le modèle et les colonnes utilisées\n",
    "rf_model = joblib.load(\"random_forest_good_deal_model.pkl\")\n",
    "features = joblib.load(\"model_features.pkl\")\n",
    "\n",
    "# Charger un nouveau dataset pour prédire si les offres sont des \"bonnes affaires\"\n",
    "new_data = pd.read_csv(\"./data/deals_dataset.csv\", delimiter=\";\", encoding=\"latin-1\")\n",
    "\n",
    "# Prétraitement des données (identique à celui utilisé lors de l'entraînement)\n",
    "new_data['discount_percentage'] = ((new_data['initial_price'] - new_data['price']) / new_data['initial_price'] * 100).fillna(0)\n",
    "new_data['free_shipping'] = new_data['shipping'].fillna(0) == 0\n",
    "new_data['free_shipping'] = new_data['free_shipping'].astype(int)\n",
    "new_data['comments_count'] = new_data['comments_count'].fillna(new_data['comments_count'].median())\n",
    "\n",
    "# Sélectionner les colonnes pertinentes pour la prédiction\n",
    "X_new = new_data[features]\n",
    "\n",
    "# Faire les prédictions avec le modèle\n",
    "new_data['is_good_deal'] = rf_model.predict(X_new)\n",
    "\n",
    "# Sauvegarder les résultats dans un nouveau fichier CSV\n",
    "new_data.to_csv(\"new_deals_with_predictions.csv\", index=False)\n",
    "\n",
    "# Afficher les résultats (track_id et prédiction)\n",
    "print(new_data[['track_id', 'is_good_deal']])\n"
   ]
  },
  {
   "cell_type": "code",
   "execution_count": null,
   "metadata": {},
   "outputs": [
    {
     "name": "stdout",
     "output_type": "stream",
     "text": [
      "Modèle et caractéristiques chargés avec succès.\n",
      "Caractéristiques utilisées : ['current_temperature', 'discount_percentage', 'free_shipping', 'comments_count']\n"
     ]
    }
   ],
   "source": [
    "# Importation des bibliothèques nécessaires\n",
    "import pandas as pd\n",
    "import joblib\n",
    "\n",
    "# Charger le modèle et les caractéristiques\n",
    "rf_model = joblib.load(\"random_forest_good_deal_model.pkl\")\n",
    "features = joblib.load(\"model_features.pkl\")\n",
    "\n",
    "print(\"Modèle et caractéristiques chargés avec succès.\")\n",
    "print(\"Caractéristiques utilisées :\", features)\n",
    "\n",
    "# Préparer un dataset fictif pour tester le modèle\n",
    "new_data = pd.DataFrame({\n",
    "    \"current_temperature\": [332, 689, -88],  # Température pour chaque offre\n",
    "    \"discount_percentage\": [15.67, 25.0, 12.29],  # Réduction en pourcentage\n",
    "    \"free_shipping\": [1, 0, 1],  # Indique si la livraison est gratuite\n",
    "    \"comments_count\": [19, 82, 3]  # Nombre de commentaires pour chaque offre\n",
    "})\n",
    "\n",
    "print(\"Nouvelles données à tester :\")\n",
    "print(new_data)\n",
    "\n",
    "# Faire des prédictions sur ces données\n",
    "predictions = rf_model.predict(new_data[features])\n",
    "\n",
    "# Ajouter les prédictions dans le dataframe\n",
    "new_data['is_good_deal'] = predictions\n",
    "\n",
    "print(\"Prédictions :\")\n",
    "print(new_data)\n"
   ]
  }
 ],
 "metadata": {
  "kernelspec": {
   "display_name": ".venv",
   "language": "python",
   "name": "python3"
  },
  "language_info": {
   "codemirror_mode": {
    "name": "ipython",
    "version": 3
   },
   "file_extension": ".py",
   "mimetype": "text/x-python",
   "name": "python",
   "nbconvert_exporter": "python",
   "pygments_lexer": "ipython3",
   "version": "3.13.0"
  }
 },
 "nbformat": 4,
 "nbformat_minor": 2
}
